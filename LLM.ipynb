{
 "cells": [
  {
   "cell_type": "code",
   "execution_count": null,
   "metadata": {},
   "outputs": [],
   "source": []
  },
  {
   "cell_type": "code",
   "execution_count": null,
   "metadata": {},
   "outputs": [],
   "source": [
    "# llama mistrols\n",
    "\n",
    "import requests\n",
    "\n",
    "def llama3_prompt(api_key, prompt_text):\n",
    "    url = \"https://api.llama3.example.com/v1/prompt\"  # Replace with the actual API endpoint\n",
    "    headers = {\n",
    "        \"Authorization\": f\"Bearer {api_key}\",\n",
    "        \"Content-Type\": \"application/json\"\n",
    "    }\n",
    "    data = {\n",
    "        \"prompt\": prompt_text,\n",
    "        \"max_tokens\": 100  # Adjust as needed\n",
    "    }\n",
    "\n",
    "    try:\n",
    "        response = requests.post(url, headers=headers, json=data)\n",
    "        response.raise_for_status()  # Raise an error for bad responses\n",
    "        return response.json()  # Return the JSON response\n",
    "    except requests.exceptions.RequestException as e:\n",
    "        print(f\"An error occurred: {e}\")\n",
    "        return None\n",
    "\n",
    "# Example usage\n",
    "prompt_text = \"What is the capital of France?\"\n",
    "response = llama3_prompt(API_KEY, prompt_text)\n",
    "\n",
    "if response:\n",
    "    print(\"Response from Llama3:\", response)"
   ]
  }
 ],
 "metadata": {
  "language_info": {
   "name": "python"
  }
 },
 "nbformat": 4,
 "nbformat_minor": 2
}
