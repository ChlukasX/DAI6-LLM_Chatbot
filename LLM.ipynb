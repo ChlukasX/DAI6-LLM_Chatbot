{
 "cells": [
  {
   "cell_type": "code",
   "execution_count": 11,
   "metadata": {},
   "outputs": [],
   "source": [
    "from dotenv import load_dotenv\n",
    "import os\n",
    "\n",
    "load_dotenv()"
   ]
  },
  {
   "cell_type": "code",
   "execution_count": 12,
   "metadata": {},
   "outputs": [
    {
     "name": "stdout",
     "output_type": "stream",
     "text": [
      "Fast language models, also known as efficient or accelerated language models, have gained significant attention in recent years due to their importance in various applications. Here are some reasons why fast language models are crucial:\n",
      "\n",
      "1. **Speed and Efficiency**: Fast language models can process vast amounts of text data much faster than traditional language models, making them ideal for real-time applications such as chatbots, autonomous vehicles, and real-time language translation systems.\n",
      "2. **Scalability**: With the increasing volume of data generated every day, fast language models can handle large datasets efficiently, making them essential for applications like sentiment analysis, text summarization, and topic modeling.\n",
      "3. **Edge Computing**: Fast language models can run on resource-constrained edge devices like smartphones, IoT devices, and smartwatches, enabling real-time language processing and analysis in applications like voice assistants, AR/VR systems, and smart homes.\n",
      "4. **AI-Driven Systems**: Fast language models are critical components in many AI-driven systems, such as chatbots, personal assistants, and intelligent agents, which rely on rapid language understanding and generation capabilities.\n",
      "5. **Big Data Processing**: Fast language models can efficiently process large volumes of unstructured data, such as social media posts, emails, and comments, enabling organizations to gain insights and make data-driven decisions quickly.\n",
      "6. **Real-time Feedback**: Fast language models can provide immediate feedback to users, enabling applications like language learning platforms, customer service chatbots, and online marketplaces to respond quickly to user queries and preferences.\n",
      "7. **Autonomous Systems**: Fast language models are essential for autonomous systems like self-driving cars, drones, and robots, which need to quickly process and respond to language inputs and outputs.\n",
      "8. **E-commerce and Customer Service**: Fast language models can help e-commerce platforms and customer service teams respond quickly to customer inquiries, improving customer satisfaction and loyalty.\n",
      "9. **Natural Language Processing (NLP)**: Fast language models are the foundation of many NLP applications, such as language translation, speech recognition, and text summarization, which rely on efficient processing and analysis of large amounts of text data.\n",
      "10. **Advancing Language Understanding**: Fast language models can accelerate AI research and development by enabling more experiments, simulations, and evaluations, ultimately improving language understanding and generation capabilities.\n",
      "11. **Data Insights**: Fast language models can analyze vast amounts of text data, providing valuable insights into sentiment analysis, topic modeling, and entity recognition, which can inform business decisions and improve customer experiences.\n",
      "12. **Accessibility**: Fast language models can be used to develop accessible language platforms for people with disabilities, such as language translation and reading assistance tools.\n",
      "\n",
      "In summary, fast language models are essential for various applications that rely on rapid language processing and analysis, enabling real-time interactions, efficient data processing, and advancing language understanding.\n"
     ]
    }
   ],
   "source": [
    "import os\n",
    "\n",
    "from groq import Groq\n",
    "\n",
    "client = Groq(\n",
    "    api_key=os.environ.get(\"API_KEY\"),\n",
    ")\n",
    "\n",
    "chat_completion = client.chat.completions.create(\n",
    "    messages=[\n",
    "        {\n",
    "            \"role\": \"user\",\n",
    "            \"content\": \"Explain the importance of fast language models\",\n",
    "        }\n",
    "    ],\n",
    "    model=\"llama3-8b-8192\",\n",
    ")\n",
    "\n",
    "print(chat_completion.choices[0].message.content)"
   ]
  }
 ],
 "metadata": {
  "kernelspec": {
   "display_name": ".venv",
   "language": "python",
   "name": "python3"
  },
  "language_info": {
   "codemirror_mode": {
    "name": "ipython",
    "version": 3
   },
   "file_extension": ".py",
   "mimetype": "text/x-python",
   "name": "python",
   "nbconvert_exporter": "python",
   "pygments_lexer": "ipython3",
   "version": "3.12.6"
  }
 },
 "nbformat": 4,
 "nbformat_minor": 2
}
